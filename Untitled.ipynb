{
 "cells": [
  {
   "cell_type": "code",
   "execution_count": 14,
   "id": "e1500daf",
   "metadata": {},
   "outputs": [],
   "source": [
    "import pandas as pd\n",
    "import numpy as np"
   ]
  },
  {
   "cell_type": "code",
   "execution_count": 15,
   "id": "48d0456c",
   "metadata": {},
   "outputs": [],
   "source": [
    "import pickle\n",
    "from scipy.io.wavfile import read\n",
    "from scipy.signal import spectrogram\n",
    "from skimage.feature import peak_local_max"
   ]
  },
  {
   "cell_type": "code",
   "execution_count": 16,
   "id": "5dbd39ed",
   "metadata": {},
   "outputs": [
    {
     "name": "stdout",
     "output_type": "stream",
     "text": [
      "Help on function peak_local_max in module skimage.feature.peak:\n",
      "\n",
      "peak_local_max(image, min_distance=1, threshold_abs=None, threshold_rel=None, exclude_border=True, indices=True, num_peaks=inf, footprint=None, labels=None, num_peaks_per_label=inf, p_norm=inf)\n",
      "    Find peaks in an image as coordinate list or boolean mask.\n",
      "    \n",
      "    Peaks are the local maxima in a region of `2 * min_distance + 1`\n",
      "    (i.e. peaks are separated by at least `min_distance`).\n",
      "    \n",
      "    If both `threshold_abs` and `threshold_rel` are provided, the maximum\n",
      "    of the two is chosen as the minimum intensity threshold of peaks.\n",
      "    \n",
      "    .. versionchanged:: 0.18\n",
      "        Prior to version 0.18, peaks of the same height within a radius of\n",
      "        `min_distance` were all returned, but this could cause unexpected\n",
      "        behaviour. From 0.18 onwards, an arbitrary peak within the region is\n",
      "        returned. See issue gh-2592.\n",
      "    \n",
      "    Parameters\n",
      "    ----------\n",
      "    image : ndarray\n",
      "        Input image.\n",
      "    min_distance : int, optional\n",
      "        The minimal allowed distance separating peaks. To find the\n",
      "        maximum number of peaks, use `min_distance=1`.\n",
      "    threshold_abs : float or None, optional\n",
      "        Minimum intensity of peaks. By default, the absolute threshold is\n",
      "        the minimum intensity of the image.\n",
      "    threshold_rel : float or None, optional\n",
      "        Minimum intensity of peaks, calculated as\n",
      "        ``max(image) * threshold_rel``.\n",
      "    exclude_border : int, tuple of ints, or bool, optional\n",
      "        If positive integer, `exclude_border` excludes peaks from within\n",
      "        `exclude_border`-pixels of the border of the image.\n",
      "        If tuple of non-negative ints, the length of the tuple must match the\n",
      "        input array's dimensionality.  Each element of the tuple will exclude\n",
      "        peaks from within `exclude_border`-pixels of the border of the image\n",
      "        along that dimension.\n",
      "        If True, takes the `min_distance` parameter as value.\n",
      "        If zero or False, peaks are identified regardless of their distance\n",
      "        from the border.\n",
      "    indices : bool, optional\n",
      "        If True, the output will be an array representing peak\n",
      "        coordinates. The coordinates are sorted according to peaks\n",
      "        values (Larger first). If False, the output will be a boolean\n",
      "        array shaped as `image.shape` with peaks present at True\n",
      "        elements. ``indices`` is deprecated and will be removed in\n",
      "        version 0.20. Default behavior will be to always return peak\n",
      "        coordinates. You can obtain a mask as shown in the example\n",
      "        below.\n",
      "    num_peaks : int, optional\n",
      "        Maximum number of peaks. When the number of peaks exceeds `num_peaks`,\n",
      "        return `num_peaks` peaks based on highest peak intensity.\n",
      "    footprint : ndarray of bools, optional\n",
      "        If provided, `footprint == 1` represents the local region within which\n",
      "        to search for peaks at every point in `image`.\n",
      "    labels : ndarray of ints, optional\n",
      "        If provided, each unique region `labels == value` represents a unique\n",
      "        region to search for peaks. Zero is reserved for background.\n",
      "    num_peaks_per_label : int, optional\n",
      "        Maximum number of peaks for each label.\n",
      "    p_norm : float\n",
      "        Which Minkowski p-norm to use. Should be in the range [1, inf].\n",
      "        A finite large p may cause a ValueError if overflow can occur.\n",
      "        ``inf`` corresponds to the Chebyshev distance and 2 to the\n",
      "        Euclidean distance.\n",
      "    \n",
      "    Returns\n",
      "    -------\n",
      "    output : ndarray or ndarray of bools\n",
      "    \n",
      "        * If `indices = True`  : (row, column, ...) coordinates of peaks.\n",
      "        * If `indices = False` : Boolean array shaped like `image`, with peaks\n",
      "          represented by True values.\n",
      "    \n",
      "    Notes\n",
      "    -----\n",
      "    The peak local maximum function returns the coordinates of local peaks\n",
      "    (maxima) in an image. Internally, a maximum filter is used for finding local\n",
      "    maxima. This operation dilates the original image. After comparison of the\n",
      "    dilated and original image, this function returns the coordinates or a mask\n",
      "    of the peaks where the dilated image equals the original image.\n",
      "    \n",
      "    See also\n",
      "    --------\n",
      "    skimage.feature.corner_peaks\n",
      "    \n",
      "    Examples\n",
      "    --------\n",
      "    >>> img1 = np.zeros((7, 7))\n",
      "    >>> img1[3, 4] = 1\n",
      "    >>> img1[3, 2] = 1.5\n",
      "    >>> img1\n",
      "    array([[0. , 0. , 0. , 0. , 0. , 0. , 0. ],\n",
      "           [0. , 0. , 0. , 0. , 0. , 0. , 0. ],\n",
      "           [0. , 0. , 0. , 0. , 0. , 0. , 0. ],\n",
      "           [0. , 0. , 1.5, 0. , 1. , 0. , 0. ],\n",
      "           [0. , 0. , 0. , 0. , 0. , 0. , 0. ],\n",
      "           [0. , 0. , 0. , 0. , 0. , 0. , 0. ],\n",
      "           [0. , 0. , 0. , 0. , 0. , 0. , 0. ]])\n",
      "    \n",
      "    >>> peak_local_max(img1, min_distance=1)\n",
      "    array([[3, 2],\n",
      "           [3, 4]])\n",
      "    \n",
      "    >>> peak_local_max(img1, min_distance=2)\n",
      "    array([[3, 2]])\n",
      "    \n",
      "    >>> img2 = np.zeros((20, 20, 20))\n",
      "    >>> img2[10, 10, 10] = 1\n",
      "    >>> img2[15, 15, 15] = 1\n",
      "    >>> peak_idx = peak_local_max(img2, exclude_border=0)\n",
      "    >>> peak_idx\n",
      "    array([[10, 10, 10],\n",
      "           [15, 15, 15]])\n",
      "    \n",
      "    >>> peak_mask = np.zeros_like(img2, dtype=bool)\n",
      "    >>> peak_mask[tuple(peak_idx.T)] = True\n",
      "    >>> np.argwhere(peak_mask)\n",
      "    array([[10, 10, 10],\n",
      "           [15, 15, 15]])\n",
      "\n"
     ]
    }
   ],
   "source": [
    "help(peak_local_max)"
   ]
  },
  {
   "cell_type": "code",
   "execution_count": 22,
   "id": "f6654aa7",
   "metadata": {},
   "outputs": [
    {
     "data": {
      "text/plain": [
       "(2, 2)"
      ]
     },
     "execution_count": 22,
     "metadata": {},
     "output_type": "execute_result"
    }
   ],
   "source": [
    "np.array([[1,2],[3,4]]).shape"
   ]
  },
  {
   "cell_type": "code",
   "execution_count": 21,
   "id": "79b191e6",
   "metadata": {},
   "outputs": [
    {
     "data": {
      "text/plain": [
       "array([[0., 0.],\n",
       "       [0., 0.]])"
      ]
     },
     "execution_count": 21,
     "metadata": {},
     "output_type": "execute_result"
    }
   ],
   "source": [
    "np.zeros((2,2))"
   ]
  },
  {
   "cell_type": "code",
   "execution_count": null,
   "id": "6b686c9c",
   "metadata": {},
   "outputs": [],
   "source": []
  }
 ],
 "metadata": {
  "kernelspec": {
   "display_name": "Python 3 (ipykernel)",
   "language": "python",
   "name": "python3"
  },
  "language_info": {
   "codemirror_mode": {
    "name": "ipython",
    "version": 3
   },
   "file_extension": ".py",
   "mimetype": "text/x-python",
   "name": "python",
   "nbconvert_exporter": "python",
   "pygments_lexer": "ipython3",
   "version": "3.9.5"
  }
 },
 "nbformat": 4,
 "nbformat_minor": 5
}
